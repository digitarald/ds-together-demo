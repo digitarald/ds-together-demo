{
 "cells": [
  {
   "cell_type": "markdown",
   "metadata": {},
   "source": [
    "# Stackoverflow Data Diving 🤿\n",
    "\n",
    "Finding insights in StackOverflow's Developer Survey data.\n",
    "\n",
    "**survey_results_public_2021_ds.csv** is Stackoverflow Developer Survey 2021 ([Open Database License](https://opendatacommons.org/licenses/odbl/1.0/)), filtered down respondents that self-identified as data scientists.\n",
    "\n",
    "## What could be explored? 🗺️\n",
    "\n",
    "Pick one and explore it!\n",
    "\n",
    "- What types of roles should be covered as Data Science related?\n",
    "- What editors do Data Scientists use?\n",
    "- New vs experienced data scientists?\n",
    "  - Difference in editors, tools, and platforms.\n",
    "- What other roles do devs who do data science have?\n",
    "- Are all data science tools reflected in roles (compared to usage of DS tools)?"
   ]
  },
  {
   "cell_type": "code",
   "execution_count": null,
   "metadata": {},
   "outputs": [],
   "source": [
    "import pandas as pd\n",
    "import seaborn as sns"
   ]
  },
  {
   "cell_type": "markdown",
   "metadata": {},
   "source": [
    "## Explore and clean the data 🧹\n",
    "\n",
    "Load up the survey data and try to make sense of it."
   ]
  },
  {
   "cell_type": "code",
   "execution_count": null,
   "metadata": {},
   "outputs": [],
   "source": [
    "df = pd.read_csv('datasets/survey_results_public_2022.csv')"
   ]
  },
  {
   "cell_type": "code",
   "execution_count": null,
   "metadata": {},
   "outputs": [],
   "source": [
    "df.head()"
   ]
  },
  {
   "cell_type": "markdown",
   "metadata": {},
   "source": [
    "## Learn from the data\n",
    "\n",
    "Capturing all the juicy insights."
   ]
  }
 ],
 "metadata": {
  "kernelspec": {
   "display_name": "Python 3.10.8 64-bit",
   "language": "python",
   "name": "python3"
  },
  "language_info": {
   "codemirror_mode": {
    "name": "ipython",
    "version": 3
   },
   "file_extension": ".py",
   "mimetype": "text/x-python",
   "name": "python",
   "nbconvert_exporter": "python",
   "pygments_lexer": "ipython3",
   "version": "3.10.8"
  },
  "orig_nbformat": 4,
  "vscode": {
   "interpreter": {
    "hash": "949777d72b0d2535278d3dc13498b2535136f6dfe0678499012e853ee9abcab1"
   }
  }
 },
 "nbformat": 4,
 "nbformat_minor": 2
}
