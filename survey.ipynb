{
 "cells": [
  {
   "cell_type": "markdown",
   "metadata": {},
   "source": [
    "# Stackoverflow Data Diving 🤿\n",
    "\n",
    "Finding insights in StackOverflow's Developer Survey data.\n",
    "\n",
    "**survey_results_public_2021_ds.csv** is Stackoverflow Developer Survey 2021 ([Open Database License](https://opendatacommons.org/licenses/odbl/1.0/)), filtered down respondents that self-identified as data scientists.\n",
    "\n",
    "## What could be explored? 🗺️\n",
    "\n",
    "Pick one and explore it!\n",
    "\n",
    "- What types of roles should be covered as Data Science related?\n",
    "- What editors do Data Scientists use?\n",
    "- New vs experienced data scientists?\n",
    "  - Difference in editors, tools, and platforms.\n",
    "- What other roles do devs who do data science have?\n",
    "- Are all data science tools reflected in roles (compared to usage of DS tools)?"
   ]
  },
  {
   "cell_type": "code",
   "execution_count": 6,
   "metadata": {},
   "outputs": [],
   "source": [
    "import pandas as pd\n",
    "import seaborn as sns"
   ]
  },
  {
   "cell_type": "code",
   "execution_count": 7,
   "metadata": {},
   "outputs": [],
   "source": [
    "# pandas and seaborn options\n",
    "sns.set_palette(\"dark\")\n",
    "sns.set_style(\"darkgrid\")\n",
    "pd.set_option('mode.chained_assignment', None)"
   ]
  },
  {
   "cell_type": "markdown",
   "metadata": {},
   "source": [
    "## Explore and clean the data 🧹\n",
    "\n",
    "Load up the survey data and try to make sense of it."
   ]
  },
  {
   "cell_type": "code",
   "execution_count": 8,
   "metadata": {},
   "outputs": [],
   "source": [
    "df = pd.read_csv('datasets/survey_results_public_2021_ds.csv')"
   ]
  },
  {
   "cell_type": "code",
   "execution_count": 9,
   "metadata": {},
   "outputs": [
    {
     "data": {
      "text/html": [
       "<div>\n",
       "<style scoped>\n",
       "    .dataframe tbody tr th:only-of-type {\n",
       "        vertical-align: middle;\n",
       "    }\n",
       "\n",
       "    .dataframe tbody tr th {\n",
       "        vertical-align: top;\n",
       "    }\n",
       "\n",
       "    .dataframe thead th {\n",
       "        text-align: right;\n",
       "    }\n",
       "</style>\n",
       "<table border=\"1\" class=\"dataframe\">\n",
       "  <thead>\n",
       "    <tr style=\"text-align: right;\">\n",
       "      <th></th>\n",
       "      <th>Unnamed: 0</th>\n",
       "      <th>ResponseId</th>\n",
       "      <th>MainBranch</th>\n",
       "      <th>Employment</th>\n",
       "      <th>Country</th>\n",
       "      <th>US_State</th>\n",
       "      <th>UK_Country</th>\n",
       "      <th>EdLevel</th>\n",
       "      <th>Age1stCode</th>\n",
       "      <th>LearnCode</th>\n",
       "      <th>...</th>\n",
       "      <th>Age</th>\n",
       "      <th>Gender</th>\n",
       "      <th>Trans</th>\n",
       "      <th>Sexuality</th>\n",
       "      <th>Ethnicity</th>\n",
       "      <th>Accessibility</th>\n",
       "      <th>MentalHealth</th>\n",
       "      <th>SurveyLength</th>\n",
       "      <th>SurveyEase</th>\n",
       "      <th>ConvertedCompYearly</th>\n",
       "    </tr>\n",
       "  </thead>\n",
       "  <tbody>\n",
       "    <tr>\n",
       "      <th>0</th>\n",
       "      <td>9</td>\n",
       "      <td>10</td>\n",
       "      <td>I am a developer by profession</td>\n",
       "      <td>Employed full-time</td>\n",
       "      <td>Sweden</td>\n",
       "      <td>NaN</td>\n",
       "      <td>NaN</td>\n",
       "      <td>Master’s degree (M.A., M.S., M.Eng., MBA, etc.)</td>\n",
       "      <td>11 - 17 years</td>\n",
       "      <td>School</td>\n",
       "      <td>...</td>\n",
       "      <td>25-34 years old</td>\n",
       "      <td>Man</td>\n",
       "      <td>No</td>\n",
       "      <td>Straight / Heterosexual</td>\n",
       "      <td>White or of European descent</td>\n",
       "      <td>None of the above</td>\n",
       "      <td>None of the above</td>\n",
       "      <td>Appropriate in length</td>\n",
       "      <td>Neither easy nor difficult</td>\n",
       "      <td>$51,552</td>\n",
       "    </tr>\n",
       "    <tr>\n",
       "      <th>1</th>\n",
       "      <td>13</td>\n",
       "      <td>14</td>\n",
       "      <td>I am a student who is learning to code</td>\n",
       "      <td>Employed full-time</td>\n",
       "      <td>Peru</td>\n",
       "      <td>NaN</td>\n",
       "      <td>NaN</td>\n",
       "      <td>Master’s degree (M.A., M.S., M.Eng., MBA, etc.)</td>\n",
       "      <td>5 - 10 years</td>\n",
       "      <td>School</td>\n",
       "      <td>...</td>\n",
       "      <td>Prefer not to say</td>\n",
       "      <td>Prefer not to say</td>\n",
       "      <td>Prefer not to say</td>\n",
       "      <td>Prefer not to say</td>\n",
       "      <td>Prefer not to say</td>\n",
       "      <td>Prefer not to say</td>\n",
       "      <td>Prefer not to say</td>\n",
       "      <td>Too long</td>\n",
       "      <td>Neither easy nor difficult</td>\n",
       "      <td>NaN</td>\n",
       "    </tr>\n",
       "    <tr>\n",
       "      <th>2</th>\n",
       "      <td>23</td>\n",
       "      <td>24</td>\n",
       "      <td>I am a developer by profession</td>\n",
       "      <td>Employed full-time</td>\n",
       "      <td>France</td>\n",
       "      <td>NaN</td>\n",
       "      <td>NaN</td>\n",
       "      <td>Master’s degree (M.A., M.S., M.Eng., MBA, etc.)</td>\n",
       "      <td>11 - 17 years</td>\n",
       "      <td>School;Online Courses or Certification</td>\n",
       "      <td>...</td>\n",
       "      <td>25-34 years old</td>\n",
       "      <td>Man</td>\n",
       "      <td>No</td>\n",
       "      <td>NaN</td>\n",
       "      <td>White or of European descent</td>\n",
       "      <td>None of the above</td>\n",
       "      <td>None of the above</td>\n",
       "      <td>Appropriate in length</td>\n",
       "      <td>Neither easy nor difficult</td>\n",
       "      <td>$38,915</td>\n",
       "    </tr>\n",
       "    <tr>\n",
       "      <th>3</th>\n",
       "      <td>58</td>\n",
       "      <td>59</td>\n",
       "      <td>I am not primarily a developer, but I write co...</td>\n",
       "      <td>Employed full-time</td>\n",
       "      <td>Russian Federation</td>\n",
       "      <td>NaN</td>\n",
       "      <td>NaN</td>\n",
       "      <td>Professional degree (JD, MD, etc.)</td>\n",
       "      <td>11 - 17 years</td>\n",
       "      <td>Other online resources (ex: videos, blogs, etc...</td>\n",
       "      <td>...</td>\n",
       "      <td>25-34 years old</td>\n",
       "      <td>Man</td>\n",
       "      <td>No</td>\n",
       "      <td>Straight / Heterosexual</td>\n",
       "      <td>White or of European descent</td>\n",
       "      <td>None of the above</td>\n",
       "      <td>None of the above</td>\n",
       "      <td>Appropriate in length</td>\n",
       "      <td>Easy</td>\n",
       "      <td>$22,644</td>\n",
       "    </tr>\n",
       "    <tr>\n",
       "      <th>4</th>\n",
       "      <td>62</td>\n",
       "      <td>63</td>\n",
       "      <td>I am not primarily a developer, but I write co...</td>\n",
       "      <td>Employed full-time</td>\n",
       "      <td>United States of America</td>\n",
       "      <td>New York</td>\n",
       "      <td>NaN</td>\n",
       "      <td>Bachelor’s degree (B.A., B.S., B.Eng., etc.)</td>\n",
       "      <td>11 - 17 years</td>\n",
       "      <td>Online Forum</td>\n",
       "      <td>...</td>\n",
       "      <td>25-34 years old</td>\n",
       "      <td>Man</td>\n",
       "      <td>No</td>\n",
       "      <td>Straight / Heterosexual</td>\n",
       "      <td>NaN</td>\n",
       "      <td>NaN</td>\n",
       "      <td>I have a concentration and/or memory disorder ...</td>\n",
       "      <td>Appropriate in length</td>\n",
       "      <td>Easy</td>\n",
       "      <td>$130,000</td>\n",
       "    </tr>\n",
       "  </tbody>\n",
       "</table>\n",
       "<p>5 rows × 49 columns</p>\n",
       "</div>"
      ],
      "text/plain": [
       "   Unnamed: 0  ResponseId                                         MainBranch  \\\n",
       "0           9          10                     I am a developer by profession   \n",
       "1          13          14             I am a student who is learning to code   \n",
       "2          23          24                     I am a developer by profession   \n",
       "3          58          59  I am not primarily a developer, but I write co...   \n",
       "4          62          63  I am not primarily a developer, but I write co...   \n",
       "\n",
       "           Employment                   Country  US_State UK_Country  \\\n",
       "0  Employed full-time                    Sweden       NaN        NaN   \n",
       "1  Employed full-time                      Peru       NaN        NaN   \n",
       "2  Employed full-time                    France       NaN        NaN   \n",
       "3  Employed full-time        Russian Federation       NaN        NaN   \n",
       "4  Employed full-time  United States of America  New York        NaN   \n",
       "\n",
       "                                           EdLevel     Age1stCode  \\\n",
       "0  Master’s degree (M.A., M.S., M.Eng., MBA, etc.)  11 - 17 years   \n",
       "1  Master’s degree (M.A., M.S., M.Eng., MBA, etc.)   5 - 10 years   \n",
       "2  Master’s degree (M.A., M.S., M.Eng., MBA, etc.)  11 - 17 years   \n",
       "3               Professional degree (JD, MD, etc.)  11 - 17 years   \n",
       "4     Bachelor’s degree (B.A., B.S., B.Eng., etc.)  11 - 17 years   \n",
       "\n",
       "                                           LearnCode  ...                Age  \\\n",
       "0                                             School  ...    25-34 years old   \n",
       "1                                             School  ...  Prefer not to say   \n",
       "2             School;Online Courses or Certification  ...    25-34 years old   \n",
       "3  Other online resources (ex: videos, blogs, etc...  ...    25-34 years old   \n",
       "4                                       Online Forum  ...    25-34 years old   \n",
       "\n",
       "              Gender              Trans                Sexuality  \\\n",
       "0                Man                 No  Straight / Heterosexual   \n",
       "1  Prefer not to say  Prefer not to say        Prefer not to say   \n",
       "2                Man                 No                      NaN   \n",
       "3                Man                 No  Straight / Heterosexual   \n",
       "4                Man                 No  Straight / Heterosexual   \n",
       "\n",
       "                      Ethnicity      Accessibility  \\\n",
       "0  White or of European descent  None of the above   \n",
       "1             Prefer not to say  Prefer not to say   \n",
       "2  White or of European descent  None of the above   \n",
       "3  White or of European descent  None of the above   \n",
       "4                           NaN                NaN   \n",
       "\n",
       "                                        MentalHealth           SurveyLength  \\\n",
       "0                                  None of the above  Appropriate in length   \n",
       "1                                  Prefer not to say               Too long   \n",
       "2                                  None of the above  Appropriate in length   \n",
       "3                                  None of the above  Appropriate in length   \n",
       "4  I have a concentration and/or memory disorder ...  Appropriate in length   \n",
       "\n",
       "                   SurveyEase ConvertedCompYearly  \n",
       "0  Neither easy nor difficult             $51,552  \n",
       "1  Neither easy nor difficult                 NaN  \n",
       "2  Neither easy nor difficult             $38,915  \n",
       "3                        Easy             $22,644  \n",
       "4                        Easy            $130,000  \n",
       "\n",
       "[5 rows x 49 columns]"
      ]
     },
     "execution_count": 9,
     "metadata": {},
     "output_type": "execute_result"
    }
   ],
   "source": [
    "df.head()"
   ]
  },
  {
   "cell_type": "markdown",
   "metadata": {},
   "source": [
    "## Learn from the data\n",
    "\n",
    "Capturing all the juicy insights."
   ]
  },
  {
   "cell_type": "markdown",
   "metadata": {},
   "source": [
    "## Comparing coding experience to comp\n",
    "\n",
    "Low hanging exploration from gleaming the data."
   ]
  },
  {
   "cell_type": "code",
   "execution_count": 10,
   "metadata": {},
   "outputs": [
    {
     "data": {
      "text/plain": [
       "<AxesSubplot: xlabel='YearsCodePro', ylabel='CompTotal'>"
      ]
     },
     "execution_count": 10,
     "metadata": {},
     "output_type": "execute_result"
    },
    {
     "data": {
      "image/png": "[encoded data removed]",
      "text/plain": [
       "<Figure size 640x480 with 1 Axes>"
      ]
     },
     "metadata": {},
     "output_type": "display_data"
    }
   ],
   "source": [
    "# Plot years of pro coding experience against total compensation\n",
    "sns.scatterplot(data=df, x='YearsCodePro', y='CompTotal')"
   ]
  }
 ],
 "metadata": {
  "kernelspec": {
   "display_name": "Python 3.10.8 64-bit",
   "language": "python",
   "name": "python3"
  },
  "language_info": {
   "codemirror_mode": {
    "name": "ipython",
    "version": 3
   },
   "file_extension": ".py",
   "mimetype": "text/x-python",
   "name": "python",
   "nbconvert_exporter": "python",
   "pygments_lexer": "ipython3",
   "version": "3.10.8"
  },
  "orig_nbformat": 4,
  "vscode": {
   "interpreter": {
    "hash": "949777d72b0d2535278d3dc13498b2535136f6dfe0678499012e853ee9abcab1"
   }
  }
 },
 "nbformat": 4,
 "nbformat_minor": 2
}
